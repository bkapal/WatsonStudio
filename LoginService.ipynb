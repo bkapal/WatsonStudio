{
 "cells": [
  {
   "cell_type": "code",
   "execution_count": 3,
   "metadata": {},
   "outputs": [
    {
     "name": "stdout",
     "output_type": "stream",
     "text": [
      "packageName =  Medstat MarketScan AS Demo thx11-scan.tsh.thomson.com-a53od632 build Package\n",
      "packageName =  Medstat MarketScan AS Demo a53od632_secure1 thx11-scan.tsh.thomson.com-a53od632 build Package\n",
      "packageName =  Medstat MarketScan AS Demo a53od632_secure2 thx11-scan.tsh.thomson.com-a53od632 build Package\n",
      "packageName =  Medstat MarketScan AS Demo a53od632_secure3 thx11-scan.tsh.thomson.com-a53od632 build Package\n"
     ]
    }
   ],
   "source": [
    "import requests\n",
    "import json\n",
    "\n",
    "BASE_URL = 'http://trvlapp2068.tsh.thomson.com/'\n",
    "LOGIN_ENDPOINT = 'AdvantageGateway/auth/LoginService/login?'\n",
    "USER_NAME = '*******'\n",
    "USER_PASSWORD = '*****'\n",
    "\n",
    "PARAMS = {'username':USER_NAME, 'password': USER_PASSWORD} \n",
    "\n",
    "####Login service returns trtoken ################\n",
    "def loginService(BASE_URL, LOGIN_ENDPOINT, USER_NAME, USER_PASSWORD):\n",
    "    serviceRequest = requests.post(BASE_URL+LOGIN_ENDPOINT, params = PARAMS)\n",
    "    return serviceRequest\n",
    "\n",
    "#### Getting package information ######################################\n",
    "def getPackageInfo():\n",
    "    ENDPOINT = BASE_URL+'AdvantageGateway/service/'\n",
    "    SERVICE = 'UserService/'\n",
    "    METHOD = 'getUserInfo'\n",
    "    trtoken = loginService(BASE_URL, LOGIN_ENDPOINT, USER_NAME, USER_PASSWORD)\n",
    "    cookies = {'trtoken' : trtoken.text}\n",
    "    packageRequest = requests.get(ENDPOINT+SERVICE+METHOD, cookies=cookies)\n",
    "    packageData =  json.loads(packageRequest.text)\n",
    "    return packageData['UserInfo']['packages']\n",
    "\n",
    "packages = getPackageInfo()\n",
    "for i in packages:\n",
    "    print('packageName = ', i)"
   ]
  }
 ],
 "metadata": {
  "kernelspec": {
   "display_name": "Python 3",
   "language": "python",
   "name": "python3"
  },
  "language_info": {
   "codemirror_mode": {
    "name": "ipython",
    "version": 3
   },
   "file_extension": ".py",
   "mimetype": "text/x-python",
   "name": "python",
   "nbconvert_exporter": "python",
   "pygments_lexer": "ipython3",
   "version": "3.7.3"
  }
 },
 "nbformat": 4,
 "nbformat_minor": 2
}
